{
  "nbformat": 4,
  "nbformat_minor": 0,
  "metadata": {
    "colab": {
      "name": "Untitled0.ipynb",
      "provenance": [],
      "include_colab_link": true
    },
    "kernelspec": {
      "name": "python3",
      "display_name": "Python 3"
    },
    "language_info": {
      "name": "python"
    }
  },
  "cells": [
    {
      "cell_type": "markdown",
      "metadata": {
        "id": "view-in-github",
        "colab_type": "text"
      },
      "source": [
        "<a href=\"https://colab.research.google.com/github/akilaganesha/Python-Project/blob/main/Dr.A.Akila_project.ipynb\" target=\"_parent\"><img src=\"https://colab.research.google.com/assets/colab-badge.svg\" alt=\"Open In Colab\"/></a>"
      ]
    },
    {
      "cell_type": "code",
      "metadata": {
        "id": "iPnyszJO65rz"
      },
      "source": [
        "import pandas as pd\n",
        "import numpy as np\n",
        "import matplotlib.pyplot as plt\n",
        "from sklearn import datasets"
      ],
      "execution_count": 1,
      "outputs": []
    },
    {
      "cell_type": "code",
      "metadata": {
        "id": "wiP4WFXO-TrR"
      },
      "source": [
        "data_ =datasets.make_classification(100)\n"
      ],
      "execution_count": 21,
      "outputs": []
    },
    {
      "cell_type": "code",
      "metadata": {
        "id": "suwPzyXw-vdY",
        "outputId": "a4208ab4-8ba3-4648-90fb-527544e20e4c",
        "colab": {
          "base_uri": "https://localhost:8080/"
        }
      },
      "source": [
        "data_"
      ],
      "execution_count": 22,
      "outputs": [
        {
          "output_type": "execute_result",
          "data": {
            "text/plain": [
              "(array([[-1.35852462, -2.00742325,  0.50096375, ..., -0.98121994,\n",
              "          1.37025689,  0.79447097],\n",
              "        [ 0.10794481,  0.14795577, -1.611542  , ...,  1.68326187,\n",
              "         -0.64835455,  0.55255465],\n",
              "        [-0.51903769,  1.22217145,  0.54313909, ...,  2.3256193 ,\n",
              "         -1.24914641, -2.10521999],\n",
              "        ...,\n",
              "        [ 1.24094817,  0.26469081, -0.42879254, ..., -0.01708071,\n",
              "          1.11538656,  0.5036184 ],\n",
              "        [ 0.39279487,  0.39749332,  0.40546449, ...,  0.94388559,\n",
              "          1.48157568,  0.94638262],\n",
              "        [ 1.25773998,  0.44917071, -1.83244038, ...,  0.40719383,\n",
              "          0.13250671, -0.72787074]]),\n",
              " array([0, 1, 0, 0, 0, 0, 0, 1, 1, 1, 0, 1, 1, 1, 0, 0, 0, 1, 0, 1, 1, 1,\n",
              "        0, 1, 0, 0, 1, 1, 1, 0, 1, 0, 0, 1, 0, 1, 1, 0, 0, 1, 0, 1, 1, 1,\n",
              "        1, 0, 0, 1, 1, 1, 0, 1, 1, 0, 1, 0, 0, 1, 1, 0, 0, 0, 0, 1, 0, 0,\n",
              "        0, 1, 1, 1, 0, 0, 0, 1, 0, 0, 0, 1, 1, 1, 1, 1, 0, 0, 0, 1, 0, 0,\n",
              "        1, 0, 0, 1, 1, 1, 1, 0, 1, 0, 1, 0]))"
            ]
          },
          "metadata": {
            "tags": []
          },
          "execution_count": 22
        }
      ]
    },
    {
      "cell_type": "code",
      "metadata": {
        "id": "V8ctIcti-3EV"
      },
      "source": [
        "inputData = pd.DataFrame(data = data_[0])"
      ],
      "execution_count": 23,
      "outputs": []
    },
    {
      "cell_type": "code",
      "metadata": {
        "id": "VmWbRzwi_EzC",
        "outputId": "6d698c78-f5d0-4e52-9e2a-117981acf864",
        "colab": {
          "base_uri": "https://localhost:8080/",
          "height": 224
        }
      },
      "source": [
        "inputData.head()"
      ],
      "execution_count": 24,
      "outputs": [
        {
          "output_type": "execute_result",
          "data": {
            "text/html": [
              "<div>\n",
              "<style scoped>\n",
              "    .dataframe tbody tr th:only-of-type {\n",
              "        vertical-align: middle;\n",
              "    }\n",
              "\n",
              "    .dataframe tbody tr th {\n",
              "        vertical-align: top;\n",
              "    }\n",
              "\n",
              "    .dataframe thead th {\n",
              "        text-align: right;\n",
              "    }\n",
              "</style>\n",
              "<table border=\"1\" class=\"dataframe\">\n",
              "  <thead>\n",
              "    <tr style=\"text-align: right;\">\n",
              "      <th></th>\n",
              "      <th>0</th>\n",
              "      <th>1</th>\n",
              "      <th>2</th>\n",
              "      <th>3</th>\n",
              "      <th>4</th>\n",
              "      <th>5</th>\n",
              "      <th>6</th>\n",
              "      <th>7</th>\n",
              "      <th>8</th>\n",
              "      <th>9</th>\n",
              "      <th>10</th>\n",
              "      <th>11</th>\n",
              "      <th>12</th>\n",
              "      <th>13</th>\n",
              "      <th>14</th>\n",
              "      <th>15</th>\n",
              "      <th>16</th>\n",
              "      <th>17</th>\n",
              "      <th>18</th>\n",
              "      <th>19</th>\n",
              "    </tr>\n",
              "  </thead>\n",
              "  <tbody>\n",
              "    <tr>\n",
              "      <th>0</th>\n",
              "      <td>-1.358525</td>\n",
              "      <td>-2.007423</td>\n",
              "      <td>0.500964</td>\n",
              "      <td>0.123558</td>\n",
              "      <td>-0.704896</td>\n",
              "      <td>-0.852187</td>\n",
              "      <td>-0.140163</td>\n",
              "      <td>-1.212309</td>\n",
              "      <td>-0.546258</td>\n",
              "      <td>-0.083664</td>\n",
              "      <td>-0.443754</td>\n",
              "      <td>-0.272833</td>\n",
              "      <td>0.353879</td>\n",
              "      <td>1.113245</td>\n",
              "      <td>-1.772333</td>\n",
              "      <td>-1.967719</td>\n",
              "      <td>0.440747</td>\n",
              "      <td>-0.981220</td>\n",
              "      <td>1.370257</td>\n",
              "      <td>0.794471</td>\n",
              "    </tr>\n",
              "    <tr>\n",
              "      <th>1</th>\n",
              "      <td>0.107945</td>\n",
              "      <td>0.147956</td>\n",
              "      <td>-1.611542</td>\n",
              "      <td>0.204114</td>\n",
              "      <td>-0.146157</td>\n",
              "      <td>1.890284</td>\n",
              "      <td>-0.187190</td>\n",
              "      <td>0.934425</td>\n",
              "      <td>-1.233987</td>\n",
              "      <td>0.369025</td>\n",
              "      <td>-0.601545</td>\n",
              "      <td>0.762343</td>\n",
              "      <td>0.524269</td>\n",
              "      <td>0.255609</td>\n",
              "      <td>-0.144782</td>\n",
              "      <td>-0.541655</td>\n",
              "      <td>-1.323678</td>\n",
              "      <td>1.683262</td>\n",
              "      <td>-0.648355</td>\n",
              "      <td>0.552555</td>\n",
              "    </tr>\n",
              "    <tr>\n",
              "      <th>2</th>\n",
              "      <td>-0.519038</td>\n",
              "      <td>1.222171</td>\n",
              "      <td>0.543139</td>\n",
              "      <td>1.360178</td>\n",
              "      <td>0.141096</td>\n",
              "      <td>-1.373679</td>\n",
              "      <td>-1.079621</td>\n",
              "      <td>0.825934</td>\n",
              "      <td>0.447999</td>\n",
              "      <td>1.130632</td>\n",
              "      <td>0.912974</td>\n",
              "      <td>-0.452795</td>\n",
              "      <td>-0.821875</td>\n",
              "      <td>-1.120628</td>\n",
              "      <td>-1.106994</td>\n",
              "      <td>-0.427078</td>\n",
              "      <td>-0.166217</td>\n",
              "      <td>2.325619</td>\n",
              "      <td>-1.249146</td>\n",
              "      <td>-2.105220</td>\n",
              "    </tr>\n",
              "    <tr>\n",
              "      <th>3</th>\n",
              "      <td>-1.912208</td>\n",
              "      <td>0.994900</td>\n",
              "      <td>-0.738794</td>\n",
              "      <td>0.637780</td>\n",
              "      <td>0.488409</td>\n",
              "      <td>1.278229</td>\n",
              "      <td>-1.152156</td>\n",
              "      <td>-0.174591</td>\n",
              "      <td>-0.305140</td>\n",
              "      <td>0.500241</td>\n",
              "      <td>-1.646158</td>\n",
              "      <td>-0.374412</td>\n",
              "      <td>1.441811</td>\n",
              "      <td>1.608368</td>\n",
              "      <td>-0.035262</td>\n",
              "      <td>-1.142430</td>\n",
              "      <td>-0.413707</td>\n",
              "      <td>-0.136621</td>\n",
              "      <td>0.050255</td>\n",
              "      <td>0.116156</td>\n",
              "    </tr>\n",
              "    <tr>\n",
              "      <th>4</th>\n",
              "      <td>0.775071</td>\n",
              "      <td>0.935037</td>\n",
              "      <td>-0.603344</td>\n",
              "      <td>0.287569</td>\n",
              "      <td>-2.450517</td>\n",
              "      <td>1.384987</td>\n",
              "      <td>1.938979</td>\n",
              "      <td>2.080649</td>\n",
              "      <td>0.773001</td>\n",
              "      <td>0.518937</td>\n",
              "      <td>0.947186</td>\n",
              "      <td>-1.732275</td>\n",
              "      <td>-0.864571</td>\n",
              "      <td>-0.638171</td>\n",
              "      <td>-1.751398</td>\n",
              "      <td>-1.010751</td>\n",
              "      <td>0.620185</td>\n",
              "      <td>-0.559407</td>\n",
              "      <td>-0.485815</td>\n",
              "      <td>0.115331</td>\n",
              "    </tr>\n",
              "  </tbody>\n",
              "</table>\n",
              "</div>"
            ],
            "text/plain": [
              "         0         1         2   ...        17        18        19\n",
              "0 -1.358525 -2.007423  0.500964  ... -0.981220  1.370257  0.794471\n",
              "1  0.107945  0.147956 -1.611542  ...  1.683262 -0.648355  0.552555\n",
              "2 -0.519038  1.222171  0.543139  ...  2.325619 -1.249146 -2.105220\n",
              "3 -1.912208  0.994900 -0.738794  ... -0.136621  0.050255  0.116156\n",
              "4  0.775071  0.935037 -0.603344  ... -0.559407 -0.485815  0.115331\n",
              "\n",
              "[5 rows x 20 columns]"
            ]
          },
          "metadata": {
            "tags": []
          },
          "execution_count": 24
        }
      ]
    },
    {
      "cell_type": "code",
      "metadata": {
        "id": "aR4c6ktX_Jg_",
        "outputId": "21c684df-8dba-476e-b474-6a6caf127c2c",
        "colab": {
          "base_uri": "https://localhost:8080/",
          "height": 282
        }
      },
      "source": [
        "plt.scatter(inputData[0], inputData[1])"
      ],
      "execution_count": 25,
      "outputs": [
        {
          "output_type": "execute_result",
          "data": {
            "text/plain": [
              "<matplotlib.collections.PathCollection at 0x7f1a0d031f10>"
            ]
          },
          "metadata": {
            "tags": []
          },
          "execution_count": 25
        },
        {
          "output_type": "display_data",
          "data": {
            "image/png": "[encoded data removed]",
            "text/plain": [
              "<Figure size 432x288 with 1 Axes>"
            ]
          },
          "metadata": {
            "tags": [],
            "needs_background": "light"
          }
        }
      ]
    },
    {
      "cell_type": "code",
      "metadata": {
        "id": "Zem3f4GG_TKC",
        "outputId": "85e10296-7e97-4240-8828-9d591c54cd14",
        "colab": {
          "base_uri": "https://localhost:8080/",
          "height": 204
        }
      },
      "source": [
        "outputData = pd.DataFrame(data = data_[1])\n",
        "outputData.head()"
      ],
      "execution_count": 26,
      "outputs": [
        {
          "output_type": "execute_result",
          "data": {
            "text/html": [
              "<div>\n",
              "<style scoped>\n",
              "    .dataframe tbody tr th:only-of-type {\n",
              "        vertical-align: middle;\n",
              "    }\n",
              "\n",
              "    .dataframe tbody tr th {\n",
              "        vertical-align: top;\n",
              "    }\n",
              "\n",
              "    .dataframe thead th {\n",
              "        text-align: right;\n",
              "    }\n",
              "</style>\n",
              "<table border=\"1\" class=\"dataframe\">\n",
              "  <thead>\n",
              "    <tr style=\"text-align: right;\">\n",
              "      <th></th>\n",
              "      <th>0</th>\n",
              "    </tr>\n",
              "  </thead>\n",
              "  <tbody>\n",
              "    <tr>\n",
              "      <th>0</th>\n",
              "      <td>0</td>\n",
              "    </tr>\n",
              "    <tr>\n",
              "      <th>1</th>\n",
              "      <td>1</td>\n",
              "    </tr>\n",
              "    <tr>\n",
              "      <th>2</th>\n",
              "      <td>0</td>\n",
              "    </tr>\n",
              "    <tr>\n",
              "      <th>3</th>\n",
              "      <td>0</td>\n",
              "    </tr>\n",
              "    <tr>\n",
              "      <th>4</th>\n",
              "      <td>0</td>\n",
              "    </tr>\n",
              "  </tbody>\n",
              "</table>\n",
              "</div>"
            ],
            "text/plain": [
              "   0\n",
              "0  0\n",
              "1  1\n",
              "2  0\n",
              "3  0\n",
              "4  0"
            ]
          },
          "metadata": {
            "tags": []
          },
          "execution_count": 26
        }
      ]
    },
    {
      "cell_type": "code",
      "metadata": {
        "id": "OtIol8MD_YPh",
        "outputId": "92a36c63-aef3-4a8f-8376-8645ccac13a1",
        "colab": {
          "base_uri": "https://localhost:8080/",
          "height": 282
        }
      },
      "source": [
        "plt.scatter(inputData[0], inputData[1], c = outputData)"
      ],
      "execution_count": 27,
      "outputs": [
        {
          "output_type": "execute_result",
          "data": {
            "text/plain": [
              "<matplotlib.collections.PathCollection at 0x7f1a0cfeb890>"
            ]
          },
          "metadata": {
            "tags": []
          },
          "execution_count": 27
        },
        {
          "output_type": "display_data",
          "data": {
            "image/png": "[encoded data removed]",
            "text/plain": [
              "<Figure size 432x288 with 1 Axes>"
            ]
          },
          "metadata": {
            "tags": [],
            "needs_background": "light"
          }
        }
      ]
    },
    {
      "cell_type": "code",
      "metadata": {
        "id": "6mE_H_Cz_cBA",
        "outputId": "bf205645-a4e5-4bea-f707-fee8af8867f4",
        "colab": {
          "base_uri": "https://localhost:8080/"
        }
      },
      "source": [
        "from sklearn.cluster import KMeans\n",
        "\n",
        "model = KMeans(n_clusters=5)\n",
        "model.fit(inputData)\n",
        "#model_fit"
      ],
      "execution_count": 28,
      "outputs": [
        {
          "output_type": "execute_result",
          "data": {
            "text/plain": [
              "KMeans(algorithm='auto', copy_x=True, init='k-means++', max_iter=300,\n",
              "       n_clusters=5, n_init=10, n_jobs=None, precompute_distances='auto',\n",
              "       random_state=None, tol=0.0001, verbose=0)"
            ]
          },
          "metadata": {
            "tags": []
          },
          "execution_count": 28
        }
      ]
    },
    {
      "cell_type": "code",
      "metadata": {
        "id": "_mcPNe_F_fiq",
        "outputId": "f6966d92-ca56-4b30-89d2-e2d04a4495b2",
        "colab": {
          "base_uri": "https://localhost:8080/"
        }
      },
      "source": [
        "model.labels_"
      ],
      "execution_count": 29,
      "outputs": [
        {
          "output_type": "execute_result",
          "data": {
            "text/plain": [
              "array([3, 2, 3, 4, 3, 3, 3, 1, 0, 0, 1, 2, 4, 2, 3, 3, 1, 1, 2, 1, 0, 0,\n",
              "       3, 1, 3, 1, 4, 2, 0, 1, 1, 1, 1, 0, 1, 1, 0, 1, 1, 0, 3, 4, 0, 0,\n",
              "       4, 3, 1, 0, 0, 4, 1, 2, 2, 1, 4, 3, 1, 1, 4, 3, 1, 1, 4, 1, 1, 3,\n",
              "       3, 4, 0, 2, 1, 3, 1, 2, 1, 3, 4, 0, 0, 2, 4, 0, 3, 3, 3, 0, 3, 4,\n",
              "       1, 3, 4, 0, 0, 0, 4, 1, 2, 1, 0, 4], dtype=int32)"
            ]
          },
          "metadata": {
            "tags": []
          },
          "execution_count": 29
        }
      ]
    },
    {
      "cell_type": "code",
      "metadata": {
        "id": "XUcRgaqE_jC4"
      },
      "source": [
        "from sklearn import metrics"
      ],
      "execution_count": 14,
      "outputs": []
    },
    {
      "cell_type": "code",
      "metadata": {
        "id": "yaYBcknj_leE",
        "outputId": "f2bdc893-2ebb-48b0-af17-b02e38b2bbca",
        "colab": {
          "base_uri": "https://localhost:8080/"
        }
      },
      "source": [
        "metrics.silhouette_score(inputData, model.labels_)"
      ],
      "execution_count": 30,
      "outputs": [
        {
          "output_type": "execute_result",
          "data": {
            "text/plain": [
              "0.0831397641449234"
            ]
          },
          "metadata": {
            "tags": []
          },
          "execution_count": 30
        }
      ]
    },
    {
      "cell_type": "code",
      "metadata": {
        "id": "Fg_dZ3x2_pAh",
        "outputId": "08892c0c-4d38-41b5-93bf-22425b2a9280",
        "colab": {
          "base_uri": "https://localhost:8080/",
          "height": 282
        }
      },
      "source": [
        "plt.scatter(inputData[0], inputData[1], c = model.labels_)\n"
      ],
      "execution_count": 31,
      "outputs": [
        {
          "output_type": "execute_result",
          "data": {
            "text/plain": [
              "<matplotlib.collections.PathCollection at 0x7f1a0cf58f50>"
            ]
          },
          "metadata": {
            "tags": []
          },
          "execution_count": 31
        },
        {
          "output_type": "display_data",
          "data": {
            "image/png": "[encoded data removed]",
            "text/plain": [
              "<Figure size 432x288 with 1 Axes>"
            ]
          },
          "metadata": {
            "tags": [],
            "needs_background": "light"
          }
        }
      ]
    },
    {
      "cell_type": "code",
      "metadata": {
        "id": "D7OQK3ge_tCA"
      },
      "source": [
        "cluster_range = range(1, 20)\n",
        "error_list = []\n",
        "\n",
        "for i in cluster_range:\n",
        "    model = KMeans(n_clusters=i)\n",
        "    model.fit(inputData)\n",
        "    res = model.inertia_\n",
        "    error_list.append(res)"
      ],
      "execution_count": 32,
      "outputs": []
    },
    {
      "cell_type": "code",
      "metadata": {
        "id": "6DOCPugI_wXL",
        "outputId": "5f559e2b-3f1e-4505-d101-b7e171e9d2c7",
        "colab": {
          "base_uri": "https://localhost:8080/",
          "height": 295
        }
      },
      "source": [
        "import matplotlib.pyplot as plt\n",
        "\n",
        "plt.plot(cluster_range, error_list, marker = \"o\", color = \"g\", markersize = 10)\n",
        "plt.xlabel(\"Cluster Range\")\n",
        "plt.ylabel(\"IntraCluster Sum\")\n",
        "plt.title(\"KMeans\")\n",
        "plt.show()"
      ],
      "execution_count": 33,
      "outputs": [
        {
          "output_type": "display_data",
          "data": {
            "image/png": "[encoded data removed]",
            "text/plain": [
              "<Figure size 432x288 with 1 Axes>"
            ]
          },
          "metadata": {
            "tags": [],
            "needs_background": "light"
          }
        }
      ]
    }
  ]
}